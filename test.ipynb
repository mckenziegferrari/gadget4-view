{
 "cells": [
  {
   "cell_type": "code",
   "execution_count": 1,
   "metadata": {},
   "outputs": [],
   "source": [
    "## import libraries as we go along that will be necessary\n",
    "\n",
    "import h5py\n",
    "import numpy as np\n",
    "import matplotlib.pyplot as plt"
   ]
  },
  {
   "cell_type": "code",
   "execution_count": 2,
   "metadata": {},
   "outputs": [],
   "source": [
    "### defining class for reading the given data from HDF5 file with Coordinates, Masses, and Velocities\n",
    "\n",
    "particle_type = 1  ## setting to DM particles for now; star particles are 4\n",
    "\n",
    "class ReadData:\n",
    "    def __init__(self, filename):\n",
    "        self.filename = filename\n",
    "        self.file = h5py.File(self.filename, 'r')\n",
    "        self.coords = self.file['PartType{}'.format(particle_type)]['Coordinates'][:]\n",
    "        self.masses = self.file['PartType1{}'.format(particle_type)]['Masses'][:]\n",
    "        self.velocities = self.file['PartType1{}'.format(particle_type)]['Velocities'][:]\n",
    "        self.file.close()\n",
    "\n",
    "    def get_coords(self):\n",
    "        return self.coords\n",
    "\n",
    "    def get_masses(self):\n",
    "        return self.masses\n",
    "\n",
    "    def get_velocities(self):\n",
    "        return self.velocities\n",
    "\n",
    "    def get_filename(self):\n",
    "        return self.filename\n",
    "\n",
    "    def get_file(self):\n",
    "        return self.file\n",
    "\n",
    "    def get_file_keys(self):\n",
    "        return self.file.keys()\n",
    "\n",
    "    def get_file_items(self):\n",
    "        return self.file.items()\n",
    "\n",
    "    def get_file_values(self):\n",
    "        return self.file.values()\n",
    "\n",
    "    def get_file_attrs(self):\n",
    "        return self.file.attrs.keys()\n",
    "\n",
    "    def get_file_attrs_values(self):\n",
    "        return self.file.attrs.values()\n",
    "\n",
    "    def get_file_attrs_items(self):\n",
    "        return self.file.attrs.items"
   ]
  },
  {
   "cell_type": "code",
   "execution_count": null,
   "metadata": {},
   "outputs": [],
   "source": []
  }
 ],
 "metadata": {
  "kernelspec": {
   "display_name": "codeastro",
   "language": "python",
   "name": "python3"
  },
  "language_info": {
   "codemirror_mode": {
    "name": "ipython",
    "version": 3
   },
   "file_extension": ".py",
   "mimetype": "text/x-python",
   "name": "python",
   "nbconvert_exporter": "python",
   "pygments_lexer": "ipython3",
   "version": "3.10.14"
  }
 },
 "nbformat": 4,
 "nbformat_minor": 2
}
