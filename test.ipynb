{
 "cells": [
  {
   "cell_type": "code",
   "execution_count": 24,
   "metadata": {},
   "outputs": [],
   "source": [
    "## import libraries as we go along that will be necessary\n",
    "\n",
    "import h5py\n",
    "import numpy as np\n",
    "import matplotlib.pyplot as plt\n",
    "import os"
   ]
  },
  {
   "cell_type": "code",
   "execution_count": 25,
   "metadata": {},
   "outputs": [],
   "source": [
    "### defining class for reading the given data from HDF5 file with Coordinates, Masses, and Velocities\n",
    "\n",
    "particle_type = 1  ## setting to DM particles for now; star particles are 4\n",
    "\n",
    "class ReadData:\n",
    "    def __init__(self, particle_type, filename):\n",
    "        self.directory = os.getcwd()\n",
    "        self.file = h5py.File(filename, 'r')\n",
    " \n",
    "    def get_velocities(self):\n",
    "        self.velocities = self.file['PartType{}'.format(particle_type)]['Velocities'][:,:3]\n",
    "        return self.velocities\n",
    "    \n",
    "    def get_masses(self):\n",
    "        self.masses = self.file['PartType{}'.format(particle_type)]['Masses'][:,:]\n",
    "        return self.masses\n",
    "    \n",
    "    def get_coordinates(self):\n",
    "        self.coordinates = self.file['PartType{}'.format(particle_type)]['Coordinates'][:,:3]\n",
    "        return self.coordinates\n",
    "\n",
    "    def get_file(self):\n",
    "        return self.file"
   ]
  },
  {
   "cell_type": "code",
   "execution_count": null,
   "metadata": {},
   "outputs": [],
   "source": [
    "### using the class to read current directory and snapshot files\n",
    "\n",
    "filename = 'examples/failed-galaxy/snapshot_000.hdf5'\n",
    "data = ReadData(filename)\n",
    "coords = data.get_coords()\n",
    "masses = data.get_masses()\n",
    "velocities = data.get_velocities()\n",
    "file = data.get_file()\n",
    "\n",
    "### plotting the data\n",
    "\n",
    "plt.figure()\n",
    "plt.hist(coords, bins=100)\n",
    "plt.xlabel('x')\n",
    "plt.ylabel('N')\n",
    "plt.title('Histogram of x-coordinates')\n",
    "plt.show()\n",
    "plt.legend()\n",
    "plt.close()\n",
    "\n",
    "plt.figure()\n",
    "plt.hist(masses, bins=100)\n",
    "plt.xlabel('Mass')\n",
    "plt.ylabel('N')\n",
    "plt.title('Histogram of masses')\n",
    "plt.show()\n",
    "plt.close()\n",
    "\n"
   ]
  },
  {
   "cell_type": "code",
   "execution_count": null,
   "metadata": {},
   "outputs": [],
   "source": []
  }
 ],
 "metadata": {
  "kernelspec": {
   "display_name": "codeastro",
   "language": "python",
   "name": "python3"
  },
  "language_info": {
   "codemirror_mode": {
    "name": "ipython",
    "version": 3
   },
   "file_extension": ".py",
   "mimetype": "text/x-python",
   "name": "python",
   "nbconvert_exporter": "python",
   "pygments_lexer": "ipython3",
   "version": "3.10.14"
  }
 },
 "nbformat": 4,
 "nbformat_minor": 2
}
